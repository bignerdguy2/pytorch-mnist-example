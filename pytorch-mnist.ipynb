{
 "cells": [
  {
   "cell_type": "markdown",
   "metadata": {},
   "source": [
    "# Task\n",
    "Our task is simple, recognize handwritten digits. We will use MNIST dataset for this tutorial.\n"
   ]
  },
  {
   "cell_type": "markdown",
   "metadata": {},
   "source": [
    "# Import necessary library\n",
    "In this tutorial, we are going to use pytorch, the cutting-edge deep learning framework to complete our task."
   ]
  },
  {
   "cell_type": "code",
   "execution_count": 1,
   "metadata": {},
   "outputs": [],
   "source": [
    "import torch\n",
    "import torchvision"
   ]
  },
  {
   "cell_type": "code",
   "execution_count": 2,
   "metadata": {},
   "outputs": [],
   "source": [
    "## Create dataloader, in PyTorch, we feed the trainer data with use of dataloader\n",
    "## We create dataloader with dataset from torchvision, \n",
    "## and we dont have to download it seperately, all automatically done\n",
    "\n",
    "# Define batch size, batch size is how much data you feed for training in one iteration\n",
    "batch_size_train = 64 # We use a small batch size here for training\n",
    "batch_size_test = 1024 #\n",
    "\n",
    "# define how image transformed\n",
    "image_transform = torchvision.transforms.Compose([\n",
    "                               torchvision.transforms.ToTensor(),\n",
    "                               torchvision.transforms.Normalize(\n",
    "                                 (0.1307,), (0.3081,))\n",
    "                             ])\n",
    "#image datasets\n",
    "train_dataset = torchvision.datasets.MNIST('dataset/', \n",
    "                                           train=True, \n",
    "                                           download=True,\n",
    "                                           transform=image_transform)\n",
    "test_dataset = torchvision.datasets.MNIST('dataset/', \n",
    "                                          train=False, \n",
    "                                          download=True,\n",
    "                                          transform=image_transform)\n",
    "#data loaders\n",
    "train_loader = torch.utils.data.DataLoader(train_dataset,\n",
    "                                           batch_size=batch_size_train, \n",
    "                                           shuffle=True)\n",
    "test_loader = torch.utils.data.DataLoader(test_dataset,\n",
    "                                          batch_size=batch_size_test, \n",
    "                                          shuffle=True)"
   ]
  },
  {
   "cell_type": "code",
   "execution_count": 3,
   "metadata": {},
   "outputs": [
    {
     "name": "stdout",
     "output_type": "stream",
     "text": [
      "Label: tensor(3)\n"
     ]
    },
    {
     "data": {
      "image/png": "[encoded data removed]",
      "text/plain": [
       "<Figure size 432x288 with 1 Axes>"
      ]
     },
     "metadata": {
      "needs_background": "light"
     },
     "output_type": "display_data"
    }
   ],
   "source": [
    "# import library\n",
    "import matplotlib.pyplot as plt\n",
    "# We can check the dataloader\n",
    "_, (example_datas, labels) = next(enumerate(test_loader))\n",
    "sample = example_datas[0][0]\n",
    "# show the data\n",
    "plt.imshow(sample, cmap='gray', interpolation='none')\n",
    "print(\"Label: \"+ str(labels[0]))"
   ]
  },
  {
   "cell_type": "code",
   "execution_count": 4,
   "metadata": {},
   "outputs": [],
   "source": [
    "## Now we can start to build our CNN model\n",
    "## We first import the pytorch nn module and optimizer\n",
    "import torch.nn as nn\n",
    "import torch.nn.functional as F\n",
    "import torch.optim as optim\n",
    "## Then define the model class\n",
    "class CNN(nn.Module):\n",
    "    def __init__(self):\n",
    "        super(CNN, self).__init__()\n",
    "        #input channel 1, output channel 10\n",
    "        self.conv1 = nn.Conv2d(1, 10, kernel_size=5, stride=1)\n",
    "        #input channel 10, output channel 20\n",
    "        self.conv2 = nn.Conv2d(10, 20, kernel_size=5, stride=1)\n",
    "        #dropout layer\n",
    "        self.conv2_drop = nn.Dropout2d()\n",
    "        #fully connected layer\n",
    "        self.fc1 = nn.Linear(320, 50)\n",
    "        self.fc2 = nn.Linear(50, 10)\n",
    "    def forward(self, x):\n",
    "        x = self.conv1(x)\n",
    "        x = F.max_pool2d(x, 2)\n",
    "        x = F.relu(x)\n",
    "        x = self.conv2(x)\n",
    "        x = self.conv2_drop(x)\n",
    "        x = F.max_pool2d(x, 2)\n",
    "        x = F.relu(x)\n",
    "        x = x.view(-1, 320)\n",
    "        x = self.fc1(x)\n",
    "        x = F.relu(x)\n",
    "        x = F.dropout(x)\n",
    "        x = self.fc2(x)\n",
    "        return F.log_softmax(x, dim=0)"
   ]
  },
  {
   "cell_type": "code",
   "execution_count": 5,
   "metadata": {},
   "outputs": [],
   "source": [
    "## create model and optimizer\n",
    "learning_rate = 0.01\n",
    "momentum = 0.5\n",
    "device = \"cpu\"\n",
    "model = CNN().to(device) #using cpu here\n",
    "optimizer = optim.SGD(model.parameters(), lr=learning_rate,\n",
    "                      momentum=momentum)"
   ]
  },
  {
   "cell_type": "code",
   "execution_count": 6,
   "metadata": {},
   "outputs": [
    {
     "name": "stdout",
     "output_type": "stream",
     "text": [
      "----------------------------------------------------------------\n",
      "        Layer (type)               Output Shape         Param #\n",
      "================================================================\n",
      "            Conv2d-1           [-1, 10, 24, 24]             260\n",
      "            Conv2d-2             [-1, 20, 8, 8]           5,020\n",
      "         Dropout2d-3             [-1, 20, 8, 8]               0\n",
      "            Linear-4                   [-1, 50]          16,050\n",
      "            Linear-5                   [-1, 10]             510\n",
      "================================================================\n",
      "Total params: 21,840\n",
      "Trainable params: 21,840\n",
      "Non-trainable params: 0\n",
      "----------------------------------------------------------------\n",
      "Input size (MB): 0.00\n",
      "Forward/backward pass size (MB): 0.06\n",
      "Params size (MB): 0.08\n",
      "Estimated Total Size (MB): 0.15\n",
      "----------------------------------------------------------------\n"
     ]
    }
   ],
   "source": [
    "from torchsummary import summary\n",
    "summary(model, input_size=(1, 28, 28), device='cpu')"
   ]
  },
  {
   "cell_type": "code",
   "execution_count": 8,
   "metadata": {},
   "outputs": [
    {
     "name": "stderr",
     "output_type": "stream",
     "text": [
      "C:\\Users\\Admin\\anaconda3\\lib\\site-packages\\torch\\onnx\\symbolic_helper.py:258: UserWarning: ONNX export failed on feature_dropout because training mode not supported\n",
      "  warnings.warn(\"ONNX export failed on \" + op + \" because \" + msg + \" not supported\")\n",
      "C:\\Users\\Admin\\anaconda3\\lib\\site-packages\\torch\\onnx\\symbolic_opset9.py:1672: UserWarning: Dropout is a training op and should not be exported in inference mode. For inference, make sure to call eval() on the model and to export it with param training=False.\n",
      "  warnings.warn(\"Dropout is a training op and should not be exported in inference mode. \"\n",
      "\n",
      "(dot.exe:11472): Pango-WARNING **: couldn't load font \"Times Not-Rotated 10\", falling back to \"Sans Not-Rotated 10\", expect ugly output.\n"
     ]
    },
    {
     "data": {
      "image/svg+xml": [
       "<?xml version=\"1.0\" encoding=\"UTF-8\" standalone=\"no\"?>\n",
       "<!DOCTYPE svg PUBLIC \"-//W3C//DTD SVG 1.1//EN\"\n",
       " \"http://www.w3.org/Graphics/SVG/1.1/DTD/svg11.dtd\">\n",
       "<!-- Generated by graphviz version 4.0.0 (20220529.0937)\n",
       " -->\n",
       "<!-- Pages: 1 -->\n",
       "<svg width=\"1501pt\" height=\"216pt\"\n",
       " viewBox=\"0.00 0.00 1501.00 216.00\" xmlns=\"http://www.w3.org/2000/svg\" xmlns:xlink=\"http://www.w3.org/1999/xlink\">\n",
       "<g id=\"graph0\" class=\"graph\" transform=\"scale(1 1) rotate(0) translate(72 180)\">\n",
       "<polygon fill=\"#ffffff\" stroke=\"transparent\" points=\"-72,36 -72,-180 1429,-180 1429,36 -72,36\"/>\n",
       "<!-- /outputs/9 -->\n",
       "<g id=\"node1\" class=\"node\">\n",
       "<title>/outputs/9</title>\n",
       "<polygon fill=\"#e8e8e8\" stroke=\"#000000\" points=\"54,-144 0,-144 0,-108 54,-108 54,-144\"/>\n",
       "<text text-anchor=\"start\" x=\"9\" y=\"-123\" font-family=\"Times\" font-size=\"10.00\" fill=\"#000000\">Conv5x5</text>\n",
       "</g>\n",
       "<!-- /outputs/10 -->\n",
       "<g id=\"node2\" class=\"node\">\n",
       "<title>/outputs/10</title>\n",
       "<polygon fill=\"#e8e8e8\" stroke=\"#000000\" points=\"157,-144 90,-144 90,-108 157,-108 157,-144\"/>\n",
       "<text text-anchor=\"start\" x=\"98.5\" y=\"-123\" font-family=\"Times\" font-size=\"10.00\" fill=\"#000000\">MaxPool2x2</text>\n",
       "</g>\n",
       "<!-- /outputs/9&#45;&gt;/outputs/10 -->\n",
       "<g id=\"edge1\" class=\"edge\">\n",
       "<title>/outputs/9&#45;&gt;/outputs/10</title>\n",
       "<path fill=\"none\" stroke=\"#000000\" d=\"M54.07,-126C62,-126 70.94,-126 79.67,-126\"/>\n",
       "<polygon fill=\"#000000\" stroke=\"#000000\" points=\"79.76,-129.5 89.76,-126 79.76,-122.5 79.76,-129.5\"/>\n",
       "</g>\n",
       "<!-- /outputs/11 -->\n",
       "<g id=\"node3\" class=\"node\">\n",
       "<title>/outputs/11</title>\n",
       "<polygon fill=\"#e8e8e8\" stroke=\"#000000\" points=\"247,-144 193,-144 193,-108 247,-108 247,-144\"/>\n",
       "<text text-anchor=\"start\" x=\"211\" y=\"-123\" font-family=\"Times\" font-size=\"10.00\" fill=\"#000000\">Relu</text>\n",
       "</g>\n",
       "<!-- /outputs/10&#45;&gt;/outputs/11 -->\n",
       "<g id=\"edge2\" class=\"edge\">\n",
       "<title>/outputs/10&#45;&gt;/outputs/11</title>\n",
       "<path fill=\"none\" stroke=\"#000000\" d=\"M157.02,-126C165.37,-126 174.4,-126 182.92,-126\"/>\n",
       "<polygon fill=\"#000000\" stroke=\"#000000\" points=\"182.98,-129.5 192.98,-126 182.98,-122.5 182.98,-129.5\"/>\n",
       "</g>\n",
       "<!-- /outputs/12 -->\n",
       "<g id=\"node4\" class=\"node\">\n",
       "<title>/outputs/12</title>\n",
       "<polygon fill=\"#e8e8e8\" stroke=\"#000000\" points=\"337,-144 283,-144 283,-108 337,-108 337,-144\"/>\n",
       "<text text-anchor=\"start\" x=\"292\" y=\"-123\" font-family=\"Times\" font-size=\"10.00\" fill=\"#000000\">Conv5x5</text>\n",
       "</g>\n",
       "<!-- /outputs/11&#45;&gt;/outputs/12 -->\n",
       "<g id=\"edge3\" class=\"edge\">\n",
       "<title>/outputs/11&#45;&gt;/outputs/12</title>\n",
       "<path fill=\"none\" stroke=\"#000000\" d=\"M247.4,-126C255.39,-126 264.31,-126 272.82,-126\"/>\n",
       "<polygon fill=\"#000000\" stroke=\"#000000\" points=\"272.92,-129.5 282.92,-126 272.92,-122.5 272.92,-129.5\"/>\n",
       "</g>\n",
       "<!-- /outputs/15 -->\n",
       "<g id=\"node7\" class=\"node\">\n",
       "<title>/outputs/15</title>\n",
       "<polygon fill=\"#e8e8e8\" stroke=\"#000000\" points=\"485,-90 373,-90 373,-54 485,-54 485,-90\"/>\n",
       "<text text-anchor=\"start\" x=\"381\" y=\"-69\" font-family=\"Times\" font-size=\"10.00\" fill=\"#000000\">aten::feature_dropout</text>\n",
       "</g>\n",
       "<!-- /outputs/12&#45;&gt;/outputs/15 -->\n",
       "<g id=\"edge4\" class=\"edge\">\n",
       "<title>/outputs/12&#45;&gt;/outputs/15</title>\n",
       "<path fill=\"none\" stroke=\"#000000\" d=\"M337.26,-113.88C349.75,-108.12 365.09,-101.04 379.58,-94.35\"/>\n",
       "<polygon fill=\"#000000\" stroke=\"#000000\" points=\"381.33,-97.39 388.94,-90.03 378.4,-91.04 381.33,-97.39\"/>\n",
       "</g>\n",
       "<!-- /outputs/13 -->\n",
       "<g id=\"node5\" class=\"node\">\n",
       "<title>/outputs/13</title>\n",
       "<polygon fill=\"#e8e8e8\" stroke=\"#000000\" points=\"337,-90 283,-90 283,-54 337,-54 337,-90\"/>\n",
       "<text text-anchor=\"start\" x=\"291\" y=\"-69\" font-family=\"Times\" font-size=\"10.00\" fill=\"#000000\">Constant</text>\n",
       "</g>\n",
       "<!-- /outputs/13&#45;&gt;/outputs/15 -->\n",
       "<g id=\"edge5\" class=\"edge\">\n",
       "<title>/outputs/13&#45;&gt;/outputs/15</title>\n",
       "<path fill=\"none\" stroke=\"#000000\" d=\"M337.26,-72C344.89,-72 353.6,-72 362.52,-72\"/>\n",
       "<polygon fill=\"#000000\" stroke=\"#000000\" points=\"362.64,-75.5 372.64,-72 362.64,-68.5 362.64,-75.5\"/>\n",
       "</g>\n",
       "<!-- /outputs/14 -->\n",
       "<g id=\"node6\" class=\"node\">\n",
       "<title>/outputs/14</title>\n",
       "<polygon fill=\"#e8e8e8\" stroke=\"#000000\" points=\"337,-36 283,-36 283,0 337,0 337,-36\"/>\n",
       "<text text-anchor=\"start\" x=\"291\" y=\"-15\" font-family=\"Times\" font-size=\"10.00\" fill=\"#000000\">Constant</text>\n",
       "</g>\n",
       "<!-- /outputs/14&#45;&gt;/outputs/15 -->\n",
       "<g id=\"edge6\" class=\"edge\">\n",
       "<title>/outputs/14&#45;&gt;/outputs/15</title>\n",
       "<path fill=\"none\" stroke=\"#000000\" d=\"M337.26,-30.12C349.75,-35.88 365.09,-42.96 379.58,-49.65\"/>\n",
       "<polygon fill=\"#000000\" stroke=\"#000000\" points=\"378.4,-52.96 388.94,-53.97 381.33,-46.61 378.4,-52.96\"/>\n",
       "</g>\n",
       "<!-- /outputs/16 -->\n",
       "<g id=\"node8\" class=\"node\">\n",
       "<title>/outputs/16</title>\n",
       "<polygon fill=\"#e8e8e8\" stroke=\"#000000\" points=\"588,-90 521,-90 521,-54 588,-54 588,-90\"/>\n",
       "<text text-anchor=\"start\" x=\"529.5\" y=\"-69\" font-family=\"Times\" font-size=\"10.00\" fill=\"#000000\">MaxPool2x2</text>\n",
       "</g>\n",
       "<!-- /outputs/15&#45;&gt;/outputs/16 -->\n",
       "<g id=\"edge7\" class=\"edge\">\n",
       "<title>/outputs/15&#45;&gt;/outputs/16</title>\n",
       "<path fill=\"none\" stroke=\"#000000\" d=\"M485.25,-72C493.83,-72 502.58,-72 510.82,-72\"/>\n",
       "<polygon fill=\"#000000\" stroke=\"#000000\" points=\"510.95,-75.5 520.95,-72 510.95,-68.5 510.95,-75.5\"/>\n",
       "</g>\n",
       "<!-- /outputs/17 -->\n",
       "<g id=\"node9\" class=\"node\">\n",
       "<title>/outputs/17</title>\n",
       "<polygon fill=\"#e8e8e8\" stroke=\"#000000\" points=\"678,-90 624,-90 624,-54 678,-54 678,-90\"/>\n",
       "<text text-anchor=\"start\" x=\"642\" y=\"-69\" font-family=\"Times\" font-size=\"10.00\" fill=\"#000000\">Relu</text>\n",
       "</g>\n",
       "<!-- /outputs/16&#45;&gt;/outputs/17 -->\n",
       "<g id=\"edge8\" class=\"edge\">\n",
       "<title>/outputs/16&#45;&gt;/outputs/17</title>\n",
       "<path fill=\"none\" stroke=\"#000000\" d=\"M588.02,-72C596.37,-72 605.4,-72 613.92,-72\"/>\n",
       "<polygon fill=\"#000000\" stroke=\"#000000\" points=\"613.98,-75.5 623.98,-72 613.98,-68.5 613.98,-75.5\"/>\n",
       "</g>\n",
       "<!-- /outputs/19 -->\n",
       "<g id=\"node11\" class=\"node\">\n",
       "<title>/outputs/19</title>\n",
       "<polygon fill=\"#e8e8e8\" stroke=\"#000000\" points=\"768,-63 714,-63 714,-27 768,-27 768,-63\"/>\n",
       "<text text-anchor=\"start\" x=\"723\" y=\"-42\" font-family=\"Times\" font-size=\"10.00\" fill=\"#000000\">Reshape</text>\n",
       "</g>\n",
       "<!-- /outputs/17&#45;&gt;/outputs/19 -->\n",
       "<g id=\"edge9\" class=\"edge\">\n",
       "<title>/outputs/17&#45;&gt;/outputs/19</title>\n",
       "<path fill=\"none\" stroke=\"#000000\" d=\"M678.4,-63.9C686.48,-61.42 695.51,-58.65 704.1,-56.01\"/>\n",
       "<polygon fill=\"#000000\" stroke=\"#000000\" points=\"705.39,-59.28 713.92,-53 703.33,-52.59 705.39,-59.28\"/>\n",
       "</g>\n",
       "<!-- /outputs/18 -->\n",
       "<g id=\"node10\" class=\"node\">\n",
       "<title>/outputs/18</title>\n",
       "<polygon fill=\"#e8e8e8\" stroke=\"#000000\" points=\"678,-36 624,-36 624,0 678,0 678,-36\"/>\n",
       "<text text-anchor=\"start\" x=\"632\" y=\"-15\" font-family=\"Times\" font-size=\"10.00\" fill=\"#000000\">Constant</text>\n",
       "</g>\n",
       "<!-- /outputs/18&#45;&gt;/outputs/19 -->\n",
       "<g id=\"edge10\" class=\"edge\">\n",
       "<title>/outputs/18&#45;&gt;/outputs/19</title>\n",
       "<path fill=\"none\" stroke=\"#000000\" d=\"M678.4,-26.1C686.48,-28.58 695.51,-31.35 704.1,-33.99\"/>\n",
       "<polygon fill=\"#000000\" stroke=\"#000000\" points=\"703.33,-37.41 713.92,-37 705.39,-30.72 703.33,-37.41\"/>\n",
       "</g>\n",
       "<!-- 4385027354086401503 -->\n",
       "<g id=\"node17\" class=\"node\">\n",
       "<title>4385027354086401503</title>\n",
       "<polygon fill=\"#e8e8e8\" stroke=\"#000000\" points=\"878,-63 804,-63 804,-27 878,-27 878,-63\"/>\n",
       "<text text-anchor=\"start\" x=\"812\" y=\"-42\" font-family=\"Times\" font-size=\"10.00\" fill=\"#000000\">Linear &gt; Relu</text>\n",
       "</g>\n",
       "<!-- /outputs/19&#45;&gt;4385027354086401503 -->\n",
       "<g id=\"edge15\" class=\"edge\">\n",
       "<title>/outputs/19&#45;&gt;4385027354086401503</title>\n",
       "<path fill=\"none\" stroke=\"#000000\" d=\"M768,-45C775.91,-45 784.85,-45 793.68,-45\"/>\n",
       "<polygon fill=\"#000000\" stroke=\"#000000\" points=\"793.91,-48.5 803.91,-45 793.91,-41.5 793.91,-48.5\"/>\n",
       "</g>\n",
       "<!-- /outputs/22/23 -->\n",
       "<g id=\"node12\" class=\"node\">\n",
       "<title>/outputs/22/23</title>\n",
       "<polygon fill=\"#e8e8e8\" stroke=\"#000000\" points=\"968,-63 914,-63 914,-27 968,-27 968,-63\"/>\n",
       "<text text-anchor=\"start\" x=\"924\" y=\"-42\" font-family=\"Times\" font-size=\"10.00\" fill=\"#000000\">Dropout</text>\n",
       "</g>\n",
       "<!-- /outputs/24 -->\n",
       "<g id=\"node13\" class=\"node\">\n",
       "<title>/outputs/24</title>\n",
       "<polygon fill=\"#e8e8e8\" stroke=\"#000000\" points=\"1058,-63 1004,-63 1004,-27 1058,-27 1058,-63\"/>\n",
       "<text text-anchor=\"start\" x=\"1018\" y=\"-42\" font-family=\"Times\" font-size=\"10.00\" fill=\"#000000\">Linear</text>\n",
       "</g>\n",
       "<!-- /outputs/22/23&#45;&gt;/outputs/24 -->\n",
       "<g id=\"edge11\" class=\"edge\">\n",
       "<title>/outputs/22/23&#45;&gt;/outputs/24</title>\n",
       "<path fill=\"none\" stroke=\"#000000\" d=\"M968.4,-45C976.39,-45 985.31,-45 993.82,-45\"/>\n",
       "<polygon fill=\"#000000\" stroke=\"#000000\" points=\"993.92,-48.5 1003.92,-45 993.92,-41.5 993.92,-48.5\"/>\n",
       "</g>\n",
       "<!-- /outputs/25 -->\n",
       "<g id=\"node14\" class=\"node\">\n",
       "<title>/outputs/25</title>\n",
       "<polygon fill=\"#e8e8e8\" stroke=\"#000000\" points=\"1156,-63 1094,-63 1094,-27 1156,-27 1156,-63\"/>\n",
       "<text text-anchor=\"start\" x=\"1102\" y=\"-42\" font-family=\"Times\" font-size=\"10.00\" fill=\"#000000\">Transpose</text>\n",
       "</g>\n",
       "<!-- /outputs/24&#45;&gt;/outputs/25 -->\n",
       "<g id=\"edge12\" class=\"edge\">\n",
       "<title>/outputs/24&#45;&gt;/outputs/25</title>\n",
       "<path fill=\"none\" stroke=\"#000000\" d=\"M1058.12,-45C1066.14,-45 1075.15,-45 1083.88,-45\"/>\n",
       "<polygon fill=\"#000000\" stroke=\"#000000\" points=\"1083.92,-48.5 1093.92,-45 1083.92,-41.5 1083.92,-48.5\"/>\n",
       "</g>\n",
       "<!-- /outputs/26 -->\n",
       "<g id=\"node15\" class=\"node\">\n",
       "<title>/outputs/26</title>\n",
       "<polygon fill=\"#e8e8e8\" stroke=\"#000000\" points=\"1259,-63 1192,-63 1192,-27 1259,-27 1259,-63\"/>\n",
       "<text text-anchor=\"start\" x=\"1200.5\" y=\"-42\" font-family=\"Times\" font-size=\"10.00\" fill=\"#000000\">LogSoftmax</text>\n",
       "</g>\n",
       "<!-- /outputs/25&#45;&gt;/outputs/26 -->\n",
       "<g id=\"edge13\" class=\"edge\">\n",
       "<title>/outputs/25&#45;&gt;/outputs/26</title>\n",
       "<path fill=\"none\" stroke=\"#000000\" d=\"M1156.09,-45C1164.13,-45 1172.99,-45 1181.58,-45\"/>\n",
       "<polygon fill=\"#000000\" stroke=\"#000000\" points=\"1181.85,-48.5 1191.85,-45 1181.85,-41.5 1181.85,-48.5\"/>\n",
       "</g>\n",
       "<!-- /outputs/27 -->\n",
       "<g id=\"node16\" class=\"node\">\n",
       "<title>/outputs/27</title>\n",
       "<polygon fill=\"#e8e8e8\" stroke=\"#000000\" points=\"1357,-63 1295,-63 1295,-27 1357,-27 1357,-63\"/>\n",
       "<text text-anchor=\"start\" x=\"1303\" y=\"-42\" font-family=\"Times\" font-size=\"10.00\" fill=\"#000000\">Transpose</text>\n",
       "</g>\n",
       "<!-- /outputs/26&#45;&gt;/outputs/27 -->\n",
       "<g id=\"edge14\" class=\"edge\">\n",
       "<title>/outputs/26&#45;&gt;/outputs/27</title>\n",
       "<path fill=\"none\" stroke=\"#000000\" d=\"M1259.03,-45C1267.23,-45 1276.14,-45 1284.68,-45\"/>\n",
       "<polygon fill=\"#000000\" stroke=\"#000000\" points=\"1284.84,-48.5 1294.84,-45 1284.84,-41.5 1284.84,-48.5\"/>\n",
       "</g>\n",
       "<!-- 4385027354086401503&#45;&gt;/outputs/22/23 -->\n",
       "<g id=\"edge16\" class=\"edge\">\n",
       "<title>4385027354086401503&#45;&gt;/outputs/22/23</title>\n",
       "<path fill=\"none\" stroke=\"#000000\" d=\"M878.21,-45C886.49,-45 895.3,-45 903.59,-45\"/>\n",
       "<polygon fill=\"#000000\" stroke=\"#000000\" points=\"903.73,-48.5 913.73,-45 903.73,-41.5 903.73,-48.5\"/>\n",
       "</g>\n",
       "</g>\n",
       "</svg>\n"
      ],
      "text/plain": [
       "<hiddenlayer.graph.Graph at 0x1df223c4d60>"
      ]
     },
     "execution_count": 8,
     "metadata": {},
     "output_type": "execute_result"
    }
   ],
   "source": [
    "# Visualize the model. Need to install graphviz and add the path of the exe to envrionment variable\n",
    "# https://graphviz.org/download/\n",
    "from torchviz import make_dot, make_dot_from_trace\n",
    "temp_input = torch.randn(1,1,28,28)\n",
    "#make_dot(model(temp_input), params=dict(model.named_parameters()))\n",
    "\n",
    "#or\n",
    "import hiddenlayer\n",
    "hiddenlayer.build_graph(model, torch.zeros([1, 1, 28, 28]))"
   ]
  },
  {
   "cell_type": "code",
   "execution_count": 11,
   "metadata": {},
   "outputs": [],
   "source": [
    "from tqdm import tqdm_notebook as tqdm\n",
    "##define train function\n",
    "def train(model, device, train_loader, optimizer, epoch, log_interval=10000):\n",
    "    model.train()\n",
    "    tk0 = tqdm(train_loader, total=int(len(train_loader)))\n",
    "    counter = 0\n",
    "    for batch_idx, (data, target) in enumerate(tk0):\n",
    "        data, target = data.to(device), target.to(device)\n",
    "        optimizer.zero_grad()\n",
    "        output = model(data)\n",
    "        loss = F.nll_loss(output, target)\n",
    "        loss.backward()\n",
    "        optimizer.step()\n",
    "        counter += 1\n",
    "        tk0.set_postfix(loss=(loss.item()*data.size(0) / (counter * train_loader.batch_size)))\n",
    "##define test function\n",
    "def test(model, device, test_loader):\n",
    "    model.eval()\n",
    "    test_loss = 0\n",
    "    correct = 0\n",
    "    with torch.no_grad():\n",
    "        for data, target in test_loader:\n",
    "            data, target = data.to(device), target.to(device)\n",
    "            output = model(data)\n",
    "            test_loss += F.nll_loss(output, target, reduction='sum').item() # sum up batch loss\n",
    "            pred = output.argmax(dim=1, keepdim=True) # get the index of the max log-probability\n",
    "            correct += pred.eq(target.view_as(pred)).sum().item()\n",
    "    test_loss /= len(test_loader.dataset)\n",
    "\n",
    "    print('\\nTest set: Average loss: {:.4f}, Accuracy: {}/{} ({:.0f}%)\\n'.format(\n",
    "        test_loss, correct, len(test_loader.dataset),\n",
    "        100. * correct / len(test_loader.dataset)))"
   ]
  },
  {
   "cell_type": "code",
   "execution_count": null,
   "metadata": {},
   "outputs": [
    {
     "name": "stderr",
     "output_type": "stream",
     "text": [
      "C:\\Users\\Admin\\AppData\\Local\\Temp\\ipykernel_11616\\1895196525.py:5: TqdmDeprecationWarning: This function will be removed in tqdm==5.0.0\n",
      "Please use `tqdm.notebook.tqdm` instead of `tqdm.tqdm_notebook`\n",
      "  tk0 = tqdm(train_loader, total=int(len(train_loader)))\n"
     ]
    },
    {
     "data": {
      "application/vnd.jupyter.widget-view+json": {
       "model_id": "6aa6519e0a8042419f7324ac7fc33566",
       "version_major": 2,
       "version_minor": 0
      },
      "text/plain": [
       "  0%|          | 0/938 [00:00<?, ?it/s]"
      ]
     },
     "metadata": {},
     "output_type": "display_data"
    },
    {
     "name": "stdout",
     "output_type": "stream",
     "text": [
      "\n",
      "Test set: Average loss: 5.0990, Accuracy: 8981/10000 (90%)\n",
      "\n"
     ]
    },
    {
     "data": {
      "application/vnd.jupyter.widget-view+json": {
       "model_id": "ca85f3f1772045f784cb036576b3cc3a",
       "version_major": 2,
       "version_minor": 0
      },
      "text/plain": [
       "  0%|          | 0/938 [00:00<?, ?it/s]"
      ]
     },
     "metadata": {},
     "output_type": "display_data"
    }
   ],
   "source": [
    "num_epoch = 3\n",
    "for epoch in range(1, num_epoch + 1):\n",
    "        train(model, device, train_loader, optimizer, epoch)\n",
    "        test(model, device, test_loader)"
   ]
  },
  {
   "cell_type": "code",
   "execution_count": 70,
   "metadata": {},
   "outputs": [
    {
     "name": "stdout",
     "output_type": "stream",
     "text": [
      "----------------------------------------------------------------\n",
      "        Layer (type)               Output Shape         Param #\n",
      "================================================================\n",
      "            Conv2d-1           [-1, 10, 24, 24]             260\n",
      "            Conv2d-2             [-1, 20, 8, 8]           5,020\n",
      "         Dropout2d-3             [-1, 20, 8, 8]               0\n",
      "            Linear-4                   [-1, 50]          16,050\n",
      "            Linear-5                   [-1, 10]             510\n",
      "================================================================\n",
      "Total params: 21,840\n",
      "Trainable params: 21,840\n",
      "Non-trainable params: 0\n",
      "----------------------------------------------------------------\n",
      "Input size (MB): 0.00\n",
      "Forward/backward pass size (MB): 0.06\n",
      "Params size (MB): 0.08\n",
      "Estimated Total Size (MB): 0.15\n",
      "----------------------------------------------------------------\n"
     ]
    },
    {
     "name": "stderr",
     "output_type": "stream",
     "text": [
      "/anaconda3/lib/python3.7/site-packages/ipykernel_launcher.py:32: UserWarning: Implicit dimension choice for log_softmax has been deprecated. Change the call to include dim=X as an argument.\n"
     ]
    }
   ],
   "source": [
    "# from torchsummary import summary\n",
    "# summary(model, (1, 28, 28))"
   ]
  },
  {
   "cell_type": "code",
   "execution_count": 71,
   "metadata": {},
   "outputs": [
    {
     "data": {
      "text/plain": [
       "CNN(\n",
       "  (conv1): Conv2d(1, 10, kernel_size=(5, 5), stride=(1, 1))\n",
       "  (conv2): Conv2d(10, 20, kernel_size=(5, 5), stride=(1, 1))\n",
       "  (conv2_drop): Dropout2d(p=0.5)\n",
       "  (fc1): Linear(in_features=320, out_features=50, bias=True)\n",
       "  (fc2): Linear(in_features=50, out_features=10, bias=True)\n",
       ")"
      ]
     },
     "execution_count": 71,
     "metadata": {},
     "output_type": "execute_result"
    }
   ],
   "source": []
  },
  {
   "cell_type": "code",
   "execution_count": null,
   "metadata": {},
   "outputs": [],
   "source": []
  }
 ],
 "metadata": {
  "kernelspec": {
   "display_name": "Python 3 (ipykernel)",
   "language": "python",
   "name": "python3"
  },
  "language_info": {
   "codemirror_mode": {
    "name": "ipython",
    "version": 3
   },
   "file_extension": ".py",
   "mimetype": "text/x-python",
   "name": "python",
   "nbconvert_exporter": "python",
   "pygments_lexer": "ipython3",
   "version": "3.9.12"
  }
 },
 "nbformat": 4,
 "nbformat_minor": 2
}
